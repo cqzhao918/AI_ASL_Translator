{
 "cells": [
  {
   "cell_type": "code",
   "execution_count": 9,
   "id": "d67e69df",
   "metadata": {},
   "outputs": [
    {
     "name": "stderr",
     "output_type": "stream",
     "text": [
      "100%|██████████████████████████████████████████████████████████████████████████████| 2811/2811 [47:28<00:00,  1.01s/it]\n"
     ]
    }
   ],
   "source": [
    "from google.cloud import storage\n",
    "import os\n",
    "import glob\n",
    "import tqdm\n",
    "\n",
    "\n",
    "# GCS bucket information\n",
    "gcs_bucket_name = 'capy-data'\n",
    "gcs_prefix = 'data/WLASL-data/wlasl_parquet_update/'\n",
    "\n",
    "storage_client = storage.Client.from_service_account_json(\"./psychic-bedrock-398320-e41cc1b33701.json\")\n",
    "bucket = storage_client.get_bucket(\"capy-data\")\n",
    "\n",
    "# Upload the TFRecord file to the GCS bucket\n",
    "\n",
    "for input_file in tqdm.tqdm(glob.glob(os.path.join(\"wlasl/wlasl_parquet_update\", '*.parquet'))):\n",
    "#     print(input_file)\n",
    "    gcs_object_name = os.path.join(gcs_prefix, os.path.basename(input_file))\n",
    "    blob = bucket.blob(gcs_object_name)\n",
    "    blob.upload_from_filename(input_file)\n"
   ]
  },
  {
   "cell_type": "code",
   "execution_count": null,
   "id": "c1e2411e",
   "metadata": {},
   "outputs": [],
   "source": []
  }
 ],
 "metadata": {
  "kernelspec": {
   "display_name": "Python 3 (ipykernel)",
   "language": "python",
   "name": "python3"
  },
  "language_info": {
   "codemirror_mode": {
    "name": "ipython",
    "version": 3
   },
   "file_extension": ".py",
   "mimetype": "text/x-python",
   "name": "python",
   "nbconvert_exporter": "python",
   "pygments_lexer": "ipython3",
   "version": "3.10.6"
  }
 },
 "nbformat": 4,
 "nbformat_minor": 5
}
